{
 "cells": [
  {
   "cell_type": "markdown",
   "metadata": {},
   "source": [
    "1. make sure to modify line 41 of **servoController.py** which specifies which communication port to use. \n",
    "2. please make sure the hardware setup is ready.\n",
    "For more sepecific information,please refer to the README file"
   ]
  },
  {
   "cell_type": "code",
   "execution_count": null,
   "metadata": {},
   "outputs": [],
   "source": [
    "from servoController import servoController\n",
    "import time"
   ]
  },
  {
   "cell_type": "markdown",
   "metadata": {},
   "source": [
    "### Instantiate servoController\n",
    "After running this line, one should see the head moving to the initialized state and stay there. This state resembles a front looking and upright positioned human head."
   ]
  },
  {
   "cell_type": "code",
   "execution_count": null,
   "metadata": {},
   "outputs": [],
   "source": [
    "servoController = servoController()"
   ]
  },
  {
   "cell_type": "markdown",
   "metadata": {},
   "source": [
    "### Set Position\n",
    "The next few instructions moves the head in pan motion first, and then tilt."
   ]
  },
  {
   "cell_type": "code",
   "execution_count": null,
   "metadata": {},
   "outputs": [],
   "source": [
    "orientation = {\"x\":0 , \"y\":100}\n",
    "servoController.setGoal(orientation)\n",
    "time.sleep(0.5)\n",
    "\n",
    "orientation[\"y\"] = 0\n",
    "servoController.setGoal(orientation)\n",
    "time.sleep(0.5)\n",
    "\n",
    "\n",
    "orientation[\"x\"] = 100\n",
    "servoController.setGoal(orientation)\n",
    "time.sleep(0.5)\n",
    "\n",
    "\n",
    "orientation[\"x\"] = 0\n",
    "servoController.setGoal(orientation)\n",
    "time.sleep(0.5)\n",
    "\n"
   ]
  },
  {
   "cell_type": "markdown",
   "metadata": {},
   "source": [
    "### Report Motor State\n",
    "This section shows how to get the current motor state in the format of `(tilt degree, pan degree)`"
   ]
  },
  {
   "cell_type": "code",
   "execution_count": null,
   "metadata": {},
   "outputs": [],
   "source": [
    "servoController.reportServoState()ß"
   ]
  }
 ],
 "metadata": {
  "kernelspec": {
   "display_name": "Python 3",
   "language": "python",
   "name": "python3"
  },
  "language_info": {
   "codemirror_mode": {
    "name": "ipython",
    "version": 3
   },
   "file_extension": ".py",
   "mimetype": "text/x-python",
   "name": "python",
   "nbconvert_exporter": "python",
   "pygments_lexer": "ipython3",
   "version": "3.8.5"
  }
 },
 "nbformat": 4,
 "nbformat_minor": 4
}
